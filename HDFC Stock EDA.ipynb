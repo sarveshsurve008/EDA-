{
 "cells": [
  {
   "cell_type": "code",
   "execution_count": 1,
   "id": "738f13e3",
   "metadata": {},
   "outputs": [],
   "source": [
    "import pandas as pd\n",
    "import numpy as np\n",
    "from scipy import stats\n",
    "import seaborn as sns\n",
    "import matplotlib.pyplot as plt\n",
    "from sklearn.linear_model import LinearRegression\n",
    "from sklearn.model_selection import train_test_split\n",
    "%matplotlib inline"
   ]
  },
  {
   "cell_type": "code",
   "execution_count": 7,
   "id": "d05ef65e",
   "metadata": {},
   "outputs": [],
   "source": [
    "df = pd.read_csv('C:\\\\Users\\\\SARVESH SURVE\\\\OneDrive\\\\Desktop\\\\data\\\\Kaggle data set\\\\HDFCBANK.NS.csv')"
   ]
  },
  {
   "cell_type": "code",
   "execution_count": 8,
   "id": "54240014",
   "metadata": {
    "scrolled": false
   },
   "outputs": [
    {
     "data": {
      "text/html": [
       "<div>\n",
       "<style scoped>\n",
       "    .dataframe tbody tr th:only-of-type {\n",
       "        vertical-align: middle;\n",
       "    }\n",
       "\n",
       "    .dataframe tbody tr th {\n",
       "        vertical-align: top;\n",
       "    }\n",
       "\n",
       "    .dataframe thead th {\n",
       "        text-align: right;\n",
       "    }\n",
       "</style>\n",
       "<table border=\"1\" class=\"dataframe\">\n",
       "  <thead>\n",
       "    <tr style=\"text-align: right;\">\n",
       "      <th></th>\n",
       "      <th>Date</th>\n",
       "      <th>Open</th>\n",
       "      <th>High</th>\n",
       "      <th>Low</th>\n",
       "      <th>Close</th>\n",
       "      <th>Adj Close</th>\n",
       "      <th>Volume</th>\n",
       "    </tr>\n",
       "  </thead>\n",
       "  <tbody>\n",
       "    <tr>\n",
       "      <th>0</th>\n",
       "      <td>1996-01-01</td>\n",
       "      <td>3.030</td>\n",
       "      <td>3.030</td>\n",
       "      <td>2.925</td>\n",
       "      <td>2.980</td>\n",
       "      <td>2.417746</td>\n",
       "      <td>350000.0</td>\n",
       "    </tr>\n",
       "    <tr>\n",
       "      <th>1</th>\n",
       "      <td>1996-01-02</td>\n",
       "      <td>2.980</td>\n",
       "      <td>3.025</td>\n",
       "      <td>2.950</td>\n",
       "      <td>2.975</td>\n",
       "      <td>2.413689</td>\n",
       "      <td>412000.0</td>\n",
       "    </tr>\n",
       "    <tr>\n",
       "      <th>2</th>\n",
       "      <td>1996-01-03</td>\n",
       "      <td>2.975</td>\n",
       "      <td>2.995</td>\n",
       "      <td>2.950</td>\n",
       "      <td>2.985</td>\n",
       "      <td>2.421803</td>\n",
       "      <td>284000.0</td>\n",
       "    </tr>\n",
       "    <tr>\n",
       "      <th>3</th>\n",
       "      <td>1996-01-04</td>\n",
       "      <td>2.985</td>\n",
       "      <td>2.980</td>\n",
       "      <td>2.940</td>\n",
       "      <td>2.965</td>\n",
       "      <td>2.405575</td>\n",
       "      <td>282000.0</td>\n",
       "    </tr>\n",
       "    <tr>\n",
       "      <th>4</th>\n",
       "      <td>1996-01-05</td>\n",
       "      <td>2.965</td>\n",
       "      <td>2.980</td>\n",
       "      <td>2.950</td>\n",
       "      <td>2.960</td>\n",
       "      <td>2.401519</td>\n",
       "      <td>189000.0</td>\n",
       "    </tr>\n",
       "  </tbody>\n",
       "</table>\n",
       "</div>"
      ],
      "text/plain": [
       "         Date   Open   High    Low  Close  Adj Close    Volume\n",
       "0  1996-01-01  3.030  3.030  2.925  2.980   2.417746  350000.0\n",
       "1  1996-01-02  2.980  3.025  2.950  2.975   2.413689  412000.0\n",
       "2  1996-01-03  2.975  2.995  2.950  2.985   2.421803  284000.0\n",
       "3  1996-01-04  2.985  2.980  2.940  2.965   2.405575  282000.0\n",
       "4  1996-01-05  2.965  2.980  2.950  2.960   2.401519  189000.0"
      ]
     },
     "execution_count": 8,
     "metadata": {},
     "output_type": "execute_result"
    }
   ],
   "source": [
    "df.head()"
   ]
  },
  {
   "cell_type": "code",
   "execution_count": 36,
   "id": "0e1bdfba",
   "metadata": {},
   "outputs": [
    {
     "data": {
      "text/html": [
       "<div>\n",
       "<style scoped>\n",
       "    .dataframe tbody tr th:only-of-type {\n",
       "        vertical-align: middle;\n",
       "    }\n",
       "\n",
       "    .dataframe tbody tr th {\n",
       "        vertical-align: top;\n",
       "    }\n",
       "\n",
       "    .dataframe thead th {\n",
       "        text-align: right;\n",
       "    }\n",
       "</style>\n",
       "<table border=\"1\" class=\"dataframe\">\n",
       "  <thead>\n",
       "    <tr style=\"text-align: right;\">\n",
       "      <th></th>\n",
       "      <th>Date</th>\n",
       "      <th>Open</th>\n",
       "      <th>High</th>\n",
       "      <th>Low</th>\n",
       "      <th>Close</th>\n",
       "      <th>Adj Close</th>\n",
       "      <th>Volume</th>\n",
       "    </tr>\n",
       "  </thead>\n",
       "  <tbody>\n",
       "    <tr>\n",
       "      <th>6562</th>\n",
       "      <td>2022-01-17</td>\n",
       "      <td>1530.000000</td>\n",
       "      <td>1556.000000</td>\n",
       "      <td>1519.150024</td>\n",
       "      <td>1521.500000</td>\n",
       "      <td>1521.500000</td>\n",
       "      <td>11494686.0</td>\n",
       "    </tr>\n",
       "    <tr>\n",
       "      <th>6563</th>\n",
       "      <td>2022-01-18</td>\n",
       "      <td>1533.000000</td>\n",
       "      <td>1550.900024</td>\n",
       "      <td>1523.000000</td>\n",
       "      <td>1529.250000</td>\n",
       "      <td>1529.250000</td>\n",
       "      <td>6170576.0</td>\n",
       "    </tr>\n",
       "    <tr>\n",
       "      <th>6564</th>\n",
       "      <td>2022-01-19</td>\n",
       "      <td>1534.000000</td>\n",
       "      <td>1539.750000</td>\n",
       "      <td>1513.349976</td>\n",
       "      <td>1518.449951</td>\n",
       "      <td>1518.449951</td>\n",
       "      <td>7158813.0</td>\n",
       "    </tr>\n",
       "    <tr>\n",
       "      <th>6565</th>\n",
       "      <td>2022-01-20</td>\n",
       "      <td>1528.449951</td>\n",
       "      <td>1528.500000</td>\n",
       "      <td>1500.099976</td>\n",
       "      <td>1509.000000</td>\n",
       "      <td>1509.000000</td>\n",
       "      <td>7598923.0</td>\n",
       "    </tr>\n",
       "    <tr>\n",
       "      <th>6566</th>\n",
       "      <td>2022-01-21</td>\n",
       "      <td>1500.000000</td>\n",
       "      <td>1529.800049</td>\n",
       "      <td>1485.599976</td>\n",
       "      <td>1521.599976</td>\n",
       "      <td>1521.599976</td>\n",
       "      <td>5768339.0</td>\n",
       "    </tr>\n",
       "  </tbody>\n",
       "</table>\n",
       "</div>"
      ],
      "text/plain": [
       "            Date         Open         High          Low        Close  \\\n",
       "6562  2022-01-17  1530.000000  1556.000000  1519.150024  1521.500000   \n",
       "6563  2022-01-18  1533.000000  1550.900024  1523.000000  1529.250000   \n",
       "6564  2022-01-19  1534.000000  1539.750000  1513.349976  1518.449951   \n",
       "6565  2022-01-20  1528.449951  1528.500000  1500.099976  1509.000000   \n",
       "6566  2022-01-21  1500.000000  1529.800049  1485.599976  1521.599976   \n",
       "\n",
       "        Adj Close      Volume  \n",
       "6562  1521.500000  11494686.0  \n",
       "6563  1529.250000   6170576.0  \n",
       "6564  1518.449951   7158813.0  \n",
       "6565  1509.000000   7598923.0  \n",
       "6566  1521.599976   5768339.0  "
      ]
     },
     "execution_count": 36,
     "metadata": {},
     "output_type": "execute_result"
    }
   ],
   "source": [
    "df.tail()"
   ]
  },
  {
   "cell_type": "code",
   "execution_count": 9,
   "id": "558b6952",
   "metadata": {},
   "outputs": [
    {
     "data": {
      "text/html": [
       "<div>\n",
       "<style scoped>\n",
       "    .dataframe tbody tr th:only-of-type {\n",
       "        vertical-align: middle;\n",
       "    }\n",
       "\n",
       "    .dataframe tbody tr th {\n",
       "        vertical-align: top;\n",
       "    }\n",
       "\n",
       "    .dataframe thead th {\n",
       "        text-align: right;\n",
       "    }\n",
       "</style>\n",
       "<table border=\"1\" class=\"dataframe\">\n",
       "  <thead>\n",
       "    <tr style=\"text-align: right;\">\n",
       "      <th></th>\n",
       "      <th>Open</th>\n",
       "      <th>High</th>\n",
       "      <th>Low</th>\n",
       "      <th>Close</th>\n",
       "      <th>Adj Close</th>\n",
       "      <th>Volume</th>\n",
       "    </tr>\n",
       "  </thead>\n",
       "  <tbody>\n",
       "    <tr>\n",
       "      <th>count</th>\n",
       "      <td>6560.000000</td>\n",
       "      <td>6560.000000</td>\n",
       "      <td>6560.000000</td>\n",
       "      <td>6560.000000</td>\n",
       "      <td>6560.000000</td>\n",
       "      <td>6.560000e+03</td>\n",
       "    </tr>\n",
       "    <tr>\n",
       "      <th>mean</th>\n",
       "      <td>337.150200</td>\n",
       "      <td>340.552696</td>\n",
       "      <td>333.371148</td>\n",
       "      <td>337.043588</td>\n",
       "      <td>328.143780</td>\n",
       "      <td>4.941709e+06</td>\n",
       "    </tr>\n",
       "    <tr>\n",
       "      <th>std</th>\n",
       "      <td>428.941250</td>\n",
       "      <td>432.701668</td>\n",
       "      <td>424.683662</td>\n",
       "      <td>428.705850</td>\n",
       "      <td>426.934669</td>\n",
       "      <td>5.711678e+06</td>\n",
       "    </tr>\n",
       "    <tr>\n",
       "      <th>min</th>\n",
       "      <td>2.435000</td>\n",
       "      <td>2.435000</td>\n",
       "      <td>2.395000</td>\n",
       "      <td>2.435000</td>\n",
       "      <td>1.975574</td>\n",
       "      <td>0.000000e+00</td>\n",
       "    </tr>\n",
       "    <tr>\n",
       "      <th>25%</th>\n",
       "      <td>23.799999</td>\n",
       "      <td>24.098750</td>\n",
       "      <td>23.309999</td>\n",
       "      <td>23.653751</td>\n",
       "      <td>20.443190</td>\n",
       "      <td>1.563008e+06</td>\n",
       "    </tr>\n",
       "    <tr>\n",
       "      <th>50%</th>\n",
       "      <td>134.424995</td>\n",
       "      <td>138.074997</td>\n",
       "      <td>130.504998</td>\n",
       "      <td>133.782501</td>\n",
       "      <td>122.550351</td>\n",
       "      <td>3.427885e+06</td>\n",
       "    </tr>\n",
       "    <tr>\n",
       "      <th>75%</th>\n",
       "      <td>513.462509</td>\n",
       "      <td>518.424988</td>\n",
       "      <td>509.062492</td>\n",
       "      <td>513.737488</td>\n",
       "      <td>495.121086</td>\n",
       "      <td>6.361122e+06</td>\n",
       "    </tr>\n",
       "    <tr>\n",
       "      <th>max</th>\n",
       "      <td>1705.000000</td>\n",
       "      <td>1725.000000</td>\n",
       "      <td>1671.000000</td>\n",
       "      <td>1688.699951</td>\n",
       "      <td>1688.699951</td>\n",
       "      <td>2.011300e+08</td>\n",
       "    </tr>\n",
       "  </tbody>\n",
       "</table>\n",
       "</div>"
      ],
      "text/plain": [
       "              Open         High          Low        Close    Adj Close  \\\n",
       "count  6560.000000  6560.000000  6560.000000  6560.000000  6560.000000   \n",
       "mean    337.150200   340.552696   333.371148   337.043588   328.143780   \n",
       "std     428.941250   432.701668   424.683662   428.705850   426.934669   \n",
       "min       2.435000     2.435000     2.395000     2.435000     1.975574   \n",
       "25%      23.799999    24.098750    23.309999    23.653751    20.443190   \n",
       "50%     134.424995   138.074997   130.504998   133.782501   122.550351   \n",
       "75%     513.462509   518.424988   509.062492   513.737488   495.121086   \n",
       "max    1705.000000  1725.000000  1671.000000  1688.699951  1688.699951   \n",
       "\n",
       "             Volume  \n",
       "count  6.560000e+03  \n",
       "mean   4.941709e+06  \n",
       "std    5.711678e+06  \n",
       "min    0.000000e+00  \n",
       "25%    1.563008e+06  \n",
       "50%    3.427885e+06  \n",
       "75%    6.361122e+06  \n",
       "max    2.011300e+08  "
      ]
     },
     "execution_count": 9,
     "metadata": {},
     "output_type": "execute_result"
    }
   ],
   "source": [
    "df.describe()"
   ]
  },
  {
   "cell_type": "code",
   "execution_count": 10,
   "id": "df99b1ce",
   "metadata": {},
   "outputs": [
    {
     "data": {
      "text/html": [
       "<div>\n",
       "<style scoped>\n",
       "    .dataframe tbody tr th:only-of-type {\n",
       "        vertical-align: middle;\n",
       "    }\n",
       "\n",
       "    .dataframe tbody tr th {\n",
       "        vertical-align: top;\n",
       "    }\n",
       "\n",
       "    .dataframe thead th {\n",
       "        text-align: right;\n",
       "    }\n",
       "</style>\n",
       "<table border=\"1\" class=\"dataframe\">\n",
       "  <thead>\n",
       "    <tr style=\"text-align: right;\">\n",
       "      <th></th>\n",
       "      <th>Open</th>\n",
       "      <th>High</th>\n",
       "      <th>Low</th>\n",
       "      <th>Close</th>\n",
       "      <th>Adj Close</th>\n",
       "      <th>Volume</th>\n",
       "    </tr>\n",
       "  </thead>\n",
       "  <tbody>\n",
       "    <tr>\n",
       "      <th>Open</th>\n",
       "      <td>1.000000</td>\n",
       "      <td>0.999924</td>\n",
       "      <td>0.999914</td>\n",
       "      <td>0.999853</td>\n",
       "      <td>0.999753</td>\n",
       "      <td>0.237993</td>\n",
       "    </tr>\n",
       "    <tr>\n",
       "      <th>High</th>\n",
       "      <td>0.999924</td>\n",
       "      <td>1.000000</td>\n",
       "      <td>0.999874</td>\n",
       "      <td>0.999934</td>\n",
       "      <td>0.999840</td>\n",
       "      <td>0.241234</td>\n",
       "    </tr>\n",
       "    <tr>\n",
       "      <th>Low</th>\n",
       "      <td>0.999914</td>\n",
       "      <td>0.999874</td>\n",
       "      <td>1.000000</td>\n",
       "      <td>0.999919</td>\n",
       "      <td>0.999806</td>\n",
       "      <td>0.234104</td>\n",
       "    </tr>\n",
       "    <tr>\n",
       "      <th>Close</th>\n",
       "      <td>0.999853</td>\n",
       "      <td>0.999934</td>\n",
       "      <td>0.999919</td>\n",
       "      <td>1.000000</td>\n",
       "      <td>0.999892</td>\n",
       "      <td>0.237713</td>\n",
       "    </tr>\n",
       "    <tr>\n",
       "      <th>Adj Close</th>\n",
       "      <td>0.999753</td>\n",
       "      <td>0.999840</td>\n",
       "      <td>0.999806</td>\n",
       "      <td>0.999892</td>\n",
       "      <td>1.000000</td>\n",
       "      <td>0.236261</td>\n",
       "    </tr>\n",
       "    <tr>\n",
       "      <th>Volume</th>\n",
       "      <td>0.237993</td>\n",
       "      <td>0.241234</td>\n",
       "      <td>0.234104</td>\n",
       "      <td>0.237713</td>\n",
       "      <td>0.236261</td>\n",
       "      <td>1.000000</td>\n",
       "    </tr>\n",
       "  </tbody>\n",
       "</table>\n",
       "</div>"
      ],
      "text/plain": [
       "               Open      High       Low     Close  Adj Close    Volume\n",
       "Open       1.000000  0.999924  0.999914  0.999853   0.999753  0.237993\n",
       "High       0.999924  1.000000  0.999874  0.999934   0.999840  0.241234\n",
       "Low        0.999914  0.999874  1.000000  0.999919   0.999806  0.234104\n",
       "Close      0.999853  0.999934  0.999919  1.000000   0.999892  0.237713\n",
       "Adj Close  0.999753  0.999840  0.999806  0.999892   1.000000  0.236261\n",
       "Volume     0.237993  0.241234  0.234104  0.237713   0.236261  1.000000"
      ]
     },
     "execution_count": 10,
     "metadata": {},
     "output_type": "execute_result"
    }
   ],
   "source": [
    "df.corr()"
   ]
  },
  {
   "cell_type": "code",
   "execution_count": 11,
   "id": "9d38cd5e",
   "metadata": {},
   "outputs": [
    {
     "data": {
      "text/plain": [
       "Date         0\n",
       "Open         7\n",
       "High         7\n",
       "Low          7\n",
       "Close        7\n",
       "Adj Close    7\n",
       "Volume       7\n",
       "dtype: int64"
      ]
     },
     "execution_count": 11,
     "metadata": {},
     "output_type": "execute_result"
    }
   ],
   "source": [
    "df.isnull().sum()"
   ]
  },
  {
   "cell_type": "code",
   "execution_count": 16,
   "id": "6d735d7d",
   "metadata": {},
   "outputs": [
    {
     "data": {
      "text/plain": [
       "22.5"
      ]
     },
     "execution_count": 16,
     "metadata": {},
     "output_type": "execute_result"
    }
   ],
   "source": [
    "mode = df['Open'].mode()[0]\n",
    "mode"
   ]
  },
  {
   "cell_type": "code",
   "execution_count": 18,
   "id": "81b163f9",
   "metadata": {},
   "outputs": [],
   "source": [
    "df['Open'].fillna(mode, inplace=True)"
   ]
  },
  {
   "cell_type": "code",
   "execution_count": 19,
   "id": "de306355",
   "metadata": {},
   "outputs": [
    {
     "data": {
      "text/plain": [
       "23.200001"
      ]
     },
     "execution_count": 19,
     "metadata": {},
     "output_type": "execute_result"
    }
   ],
   "source": [
    "mode = df['High'].mode()[0]\n",
    "mode"
   ]
  },
  {
   "cell_type": "code",
   "execution_count": 20,
   "id": "dced1cc1",
   "metadata": {},
   "outputs": [],
   "source": [
    "df['High'].fillna(mode, inplace=True)"
   ]
  },
  {
   "cell_type": "code",
   "execution_count": 21,
   "id": "095caed5",
   "metadata": {},
   "outputs": [
    {
     "data": {
      "text/plain": [
       "22.0"
      ]
     },
     "execution_count": 21,
     "metadata": {},
     "output_type": "execute_result"
    }
   ],
   "source": [
    "mode = df['Low'].mode()[0]\n",
    "mode"
   ]
  },
  {
   "cell_type": "code",
   "execution_count": 22,
   "id": "c50a8e80",
   "metadata": {},
   "outputs": [],
   "source": [
    "df['Low'].fillna(mode, inplace=True)"
   ]
  },
  {
   "cell_type": "code",
   "execution_count": 23,
   "id": "81de2455",
   "metadata": {},
   "outputs": [
    {
     "data": {
      "text/plain": [
       "3.805"
      ]
     },
     "execution_count": 23,
     "metadata": {},
     "output_type": "execute_result"
    }
   ],
   "source": [
    "mode = df['Close'].mode()[0]\n",
    "mode"
   ]
  },
  {
   "cell_type": "code",
   "execution_count": 24,
   "id": "8bb9618f",
   "metadata": {},
   "outputs": [],
   "source": [
    "df['Close'].fillna(mode, inplace=True)"
   ]
  },
  {
   "cell_type": "code",
   "execution_count": 25,
   "id": "6eb4a3be",
   "metadata": {},
   "outputs": [
    {
     "data": {
      "text/plain": [
       "3.087088"
      ]
     },
     "execution_count": 25,
     "metadata": {},
     "output_type": "execute_result"
    }
   ],
   "source": [
    "mode = df['Adj Close'].mode()[0]\n",
    "mode"
   ]
  },
  {
   "cell_type": "code",
   "execution_count": 26,
   "id": "9766278a",
   "metadata": {},
   "outputs": [],
   "source": [
    "df['Adj Close'].fillna(mode, inplace=True)\n"
   ]
  },
  {
   "cell_type": "code",
   "execution_count": 32,
   "id": "9c280d0b",
   "metadata": {},
   "outputs": [
    {
     "data": {
      "text/plain": [
       "0.0"
      ]
     },
     "execution_count": 32,
     "metadata": {},
     "output_type": "execute_result"
    }
   ],
   "source": [
    "mode = df['Volume'].mode()[0]\n",
    "mode"
   ]
  },
  {
   "cell_type": "code",
   "execution_count": 33,
   "id": "24a2c75a",
   "metadata": {},
   "outputs": [],
   "source": [
    "df['Volume'].fillna(mode, inplace=True)"
   ]
  },
  {
   "cell_type": "code",
   "execution_count": 56,
   "id": "419c7d87",
   "metadata": {},
   "outputs": [
    {
     "data": {
      "text/plain": [
       "Date         0\n",
       "Open         0\n",
       "High         0\n",
       "Low          0\n",
       "Close        0\n",
       "Adj Close    0\n",
       "Volume       0\n",
       "dtype: int64"
      ]
     },
     "execution_count": 56,
     "metadata": {},
     "output_type": "execute_result"
    }
   ],
   "source": [
    "df.isnull().sum()"
   ]
  },
  {
   "cell_type": "code",
   "execution_count": 40,
   "id": "9f8d8675",
   "metadata": {},
   "outputs": [
    {
     "data": {
      "image/png": "[encoded data removed]",
      "text/plain": [
       "<Figure size 900x700 with 1 Axes>"
      ]
     },
     "metadata": {},
     "output_type": "display_data"
    }
   ],
   "source": [
    "import matplotlib.pyplot as plt\n",
    "plt.figure(figsize=(9,7))\n",
    "plt.plot(df['Date'], df['Close'])\n",
    "plt.xlabel('Date(1996-01-01 to 2022-01-21)')\n",
    "plt.ylabel('Stock Price')\n",
    "plt.title('HDFC Bank Stock Price over Time')\n",
    "plt.show()\n"
   ]
  },
  {
   "cell_type": "code",
   "execution_count": 47,
   "id": "d8131e12",
   "metadata": {},
   "outputs": [
    {
     "data": {
      "text/plain": [
       "<AxesSubplot:>"
      ]
     },
     "execution_count": 47,
     "metadata": {},
     "output_type": "execute_result"
    },
    {
     "data": {
      "image/png": "[encoded data removed]",
      "text/plain": [
       "<Figure size 640x480 with 2 Axes>"
      ]
     },
     "metadata": {},
     "output_type": "display_data"
    }
   ],
   "source": [
    "sns.heatmap(df.corr(), annot= True)"
   ]
  },
  {
   "cell_type": "code",
   "execution_count": 48,
   "id": "06fbd8c7",
   "metadata": {},
   "outputs": [
    {
     "data": {
      "image/png": "[encoded data removed]",
      "text/plain": [
       "<Figure size 640x480 with 1 Axes>"
      ]
     },
     "metadata": {},
     "output_type": "display_data"
    }
   ],
   "source": [
    "plt.hist(df['Close'], bins=50)\n",
    "plt.xlabel('Stock Price')\n",
    "plt.ylabel('Frequency')\n",
    "plt.title('HDFC Bank Stock Price Distribution')\n",
    "plt.show()\n"
   ]
  },
  {
   "cell_type": "code",
   "execution_count": 50,
   "id": "c60b4ab2",
   "metadata": {},
   "outputs": [
    {
     "name": "stdout",
     "output_type": "stream",
     "text": [
      "               Open      High       Low     Close  Adj Close    Volume\n",
      "Open       1.000000  0.999924  0.999914  0.999852   0.999753  0.238506\n",
      "High       0.999924  1.000000  0.999874  0.999933   0.999839  0.241745\n",
      "Low        0.999914  0.999874  1.000000  0.999918   0.999805  0.234619\n",
      "Close      0.999852  0.999933  0.999918  1.000000   0.999892  0.238258\n",
      "Adj Close  0.999753  0.999839  0.999805  0.999892   1.000000  0.236796\n",
      "Volume     0.238506  0.241745  0.234619  0.238258   0.236796  1.000000\n"
     ]
    },
    {
     "name": "stderr",
     "output_type": "stream",
     "text": [
      "C:\\Users\\SARVESH SURVE\\anaconda3\\lib\\site-packages\\seaborn\\_decorators.py:36: FutureWarning: Pass the following variables as keyword args: x, y. From version 0.12, the only valid positional argument will be `data`, and passing other arguments without an explicit keyword will result in an error or misinterpretation.\n",
      "  warnings.warn(\n"
     ]
    },
    {
     "data": {
      "image/png": "[encoded data removed]",
      "text/plain": [
       "<Figure size 640x480 with 1 Axes>"
      ]
     },
     "metadata": {},
     "output_type": "display_data"
    }
   ],
   "source": [
    "corr = df.corr()\n",
    "print(corr)\n",
    "\n",
    "sns.regplot(df['Open'], df['Close'])\n",
    "plt.xlabel('Open')\n",
    "plt.ylabel('Close')\n",
    "plt.title('Relationship between Open and Close Prices')\n",
    "plt.show()\n"
   ]
  },
  {
   "cell_type": "code",
   "execution_count": null,
   "id": "216915bf",
   "metadata": {},
   "outputs": [],
   "source": []
  }
 ],
 "metadata": {
  "kernelspec": {
   "display_name": "Python 3 (ipykernel)",
   "language": "python",
   "name": "python3"
  },
  "language_info": {
   "codemirror_mode": {
    "name": "ipython",
    "version": 3
   },
   "file_extension": ".py",
   "mimetype": "text/x-python",
   "name": "python",
   "nbconvert_exporter": "python",
   "pygments_lexer": "ipython3",
   "version": "3.9.13"
  }
 },
 "nbformat": 4,
 "nbformat_minor": 5
}
